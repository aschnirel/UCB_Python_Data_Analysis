{
 "cells": [
  {
   "cell_type": "code",
   "execution_count": 22,
   "metadata": {},
   "outputs": [
    {
     "name": "stdout",
     "output_type": "stream",
     "text": [
      "Create an array with elements 10, 12, -9 and print the corresponding array. Find its shape.\n",
      "[10, 12, -9]\n",
      "(3,)\n",
      "If array C has rows [11, -3, 5], [2, 6, 9], [20, 4, 11], then broadcast 3 to every element of C.\n",
      "[[14  0  8]\n",
      " [ 5  9 12]\n",
      " [23  7 14]]\n",
      "D has rows [3, 6], [7, 5], [10, 1], compute the transpose of D and perform matrix multiplication on D and D transpose.\n",
      "[[ 45  51  36]\n",
      " [ 51  74  75]\n",
      " [ 36  75 101]]\n",
      "If S has rows [10, 20] and [21, 35], then check if values in S are greater than 20 and create and print an array whose elements satisfy this condition.\n",
      "[21 35]\n",
      "If array A has rows [15, 7, 8], [12, 10, 3], [6, 11, 5] find the mean and median of A.\n",
      "8.555555555555555 8.0\n"
     ]
    }
   ],
   "source": [
    "# Quiz 1 \n",
    "# 7/25/19\n",
    "# Addie Schnirel\n",
    "\n",
    "import numpy as np\n",
    "\n",
    "#question 3\n",
    "print(\"Create an array with elements 10, 12, -9 and print the corresponding array. Find its shape.\")\n",
    "a=[10, 12, -9]\n",
    "print(a)\n",
    "print(np.shape(a))\n",
    "\n",
    "#question 4\n",
    "print(\"If array C has rows [11, -3, 5], [2, 6, 9], [20, 4, 11], then broadcast 3 to every element of C.\")\n",
    "C=np.array([[11, -3, 5], [2, 6, 9], [20, 4, 11]]) \n",
    "C3=C+3\n",
    "print(C3)\n",
    "\n",
    "#question 5\n",
    "print(\"D has rows [3, 6], [7, 5], [10, 1], compute the transpose of D and perform matrix multiplication on D and D transpose.\")\n",
    "D=np.array([[3, 6], [7, 5], [10, 1]])\n",
    "DmultD=np.dot(D,D.T)\n",
    "print(DmultD)\n",
    "\n",
    "#question 6\n",
    "print(\"If S has rows [10, 20] and [21, 35], then check if values in S are greater than 20 and create and print an array whose elements satisfy this condition.\")\n",
    "S=np.array([[10, 20], [21, 35]])\n",
    "S20=S[S>20]\n",
    "print(S20)\n",
    "\n",
    "#question 7\n",
    "print(\"If array A has rows [15, 7, 8], [12, 10, 3], [6, 11, 5] find the mean and median of A.\")\n",
    "A =np.array([[15, 7, 8], [12, 10, 3], [6, 11, 5]])\n",
    "meanA=np.mean(A)\n",
    "medianA=np.median(A)\n",
    "print(meanA,medianA)"
   ]
  },
  {
   "cell_type": "code",
   "execution_count": null,
   "metadata": {},
   "outputs": [],
   "source": []
  }
 ],
 "metadata": {
  "kernelspec": {
   "display_name": "Python 3",
   "language": "python",
   "name": "python3"
  },
  "language_info": {
   "codemirror_mode": {
    "name": "ipython",
    "version": 3
   },
   "file_extension": ".py",
   "mimetype": "text/x-python",
   "name": "python",
   "nbconvert_exporter": "python",
   "pygments_lexer": "ipython3",
   "version": "3.6.5"
  }
 },
 "nbformat": 4,
 "nbformat_minor": 2
}
