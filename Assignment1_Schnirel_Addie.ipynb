{
 "cells": [
  {
   "cell_type": "code",
   "execution_count": 15,
   "metadata": {},
   "outputs": [
    {
     "name": "stdout",
     "output_type": "stream",
     "text": [
      "The mean of the array is: 16.666666666666668\n",
      "The mean of the column is: [20.         13.33333333 16.66666667]\n",
      "The median of the column is: [20. 15. 15.]\n",
      "[400. 200. 250.]\n",
      "8.498365855987975\n"
     ]
    }
   ],
   "source": [
    "#Solution 1\n",
    "\"\"\"a1 = np.array([[5, 15, 25],[20, 10, 15],[35, 15, 10]])\n",
    "\n",
    "Find the following:\n",
    "\n",
    "1) Mean of a1 and median of a1.\n",
    "\n",
    "2) Mean and median along the axis = 0, then perform element and element multiplication on the arrays.\n",
    "\n",
    "3) Find the standard deviation of a1.\"\"\"\n",
    "\n",
    "import numpy as np\n",
    "a1 = np.array([[5, 15, 25],[20, 10, 15],[35, 15, 10]])\n",
    "\n",
    "#1) Mean of a1 and median of a1.\n",
    "a1mean=np.mean(a1)\n",
    "print(\"The mean of the array is:\", a1mean)\n",
    "\n",
    "#2) Mean and median along the axis = 0, then perform element and element multiplication on the arrays.\n",
    "a1mean0=np.mean(a1, 0)\n",
    "print(\"The mean of the column is:\", a1mean0)\n",
    "a1med0=np.median(a1, 0)\n",
    "print(\"The median of the column is:\", a1med0)\n",
    "print(a1mean0*a1med0)\n",
    "\n",
    "#3) Find the standard deviation of a1\n",
    "stda1=np.std(a1)\n",
    "print(stda1)"
   ]
  },
  {
   "cell_type": "code",
   "execution_count": 14,
   "metadata": {},
   "outputs": [
    {
     "data": {
      "text/plain": [
       "array([ 31,  91, 100,  -3,  11,  -7])"
      ]
     },
     "execution_count": 14,
     "metadata": {},
     "output_type": "execute_result"
    }
   ],
   "source": [
    "#Solution 2\n",
    "\"\"\"Problem 2 -\n",
    "\n",
    "Write the following values into a npy file\n",
    "\n",
    "31, 91, 100, -3, 11, -7\n",
    "\n",
    "save the file and then print the values from the file.\"\"\"\n",
    "\n",
    "\n",
    "a = np.array([31, 91, 100, -3, 11, -7])\n",
    "np.save('da1.npy', a) \n",
    "np.load(\"da1.npy\")"
   ]
  },
  {
   "cell_type": "code",
   "execution_count": 20,
   "metadata": {},
   "outputs": [
    {
     "name": "stdout",
     "output_type": "stream",
     "text": [
      "[ 15  84 -60]\n",
      "39\n"
     ]
    }
   ],
   "source": [
    "#Solution 3\n",
    "\"\"\"Problem 3 -\n",
    "\n",
    "If b1 = [5, 7, 15], c1 = [3, 12, -4]\n",
    "\n",
    "1) Find element by element multiplication on b1 and c1 and print the result.\n",
    "\n",
    "2) What operations do we have to perform on c1 so that we can do array multiplication on b1 and c1?\n",
    "Perform those operations and print the output for every step.\n",
    "\n",
    "3) On array obtained in 2, compute a boolean array that satisfies the condition that value \n",
    "is greater than 20. Print the boolean array. \n",
    "Then find the corresponding array where the condtition is True.\"\"\"\n",
    "\n",
    "b1 = np.array([5, 7, 15])\n",
    "c1 = np.array([3, 12, -4])\n",
    "\n",
    "#1) Find element by element multiplication on b1 and c1 and print the result.\n",
    "print(b1*c1)\n",
    "\n",
    "#2) What operations do we have to perform on c1 so that we can do array multiplication on b1 and c1?\n",
    "\"\"\"Perform a transpose on c1 in order to do array multiplication on b1 and c1\"\"\"\n",
    "#Perform those operations and print the output for every step.\n",
    "c1t=c1.T\n",
    "b1c1=np.dot(b1,c1t)\n",
    "print(b1c1)\n"
   ]
  },
  {
   "cell_type": "code",
   "execution_count": null,
   "metadata": {},
   "outputs": [],
   "source": []
  }
 ],
 "metadata": {
  "kernelspec": {
   "display_name": "Python 3",
   "language": "python",
   "name": "python3"
  },
  "language_info": {
   "codemirror_mode": {
    "name": "ipython",
    "version": 3
   },
   "file_extension": ".py",
   "mimetype": "text/x-python",
   "name": "python",
   "nbconvert_exporter": "python",
   "pygments_lexer": "ipython3",
   "version": "3.6.5"
  }
 },
 "nbformat": 4,
 "nbformat_minor": 2
}
